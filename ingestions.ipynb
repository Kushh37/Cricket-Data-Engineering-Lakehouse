{
 "cells": [
  {
   "cell_type": "markdown",
   "metadata": {
    "application/vnd.databricks.v1+cell": {
     "cellMetadata": {},
     "inputWidgets": {},
     "nuid": "b29428c1-5d7e-4292-bcee-adb2b2d129d1",
     "showTitle": false,
     "tableResultSettingsMap": {},
     "title": ""
    }
   },
   "source": [
    "### 1. Azure Databricks to ADLS Connection\n",
    "\n",
    "This section establishes a secure connection between the Databricks cluster and Azure Data Lake Storage account using Service Principal credentials stored in Azure Key Vault. This is a best practice for managing secrets, as it prevents hard-coding sensitive information directly in your notebook."
   ]
  },
  {
   "cell_type": "code",
   "execution_count": 0,
   "metadata": {
    "application/vnd.databricks.v1+cell": {
     "cellMetadata": {
      "byteLimit": 2048000,
      "rowLimit": 10000
     },
     "inputWidgets": {},
     "nuid": "3bdac7c9-2bfb-40eb-90e3-62347d57be96",
     "showTitle": false,
     "tableResultSettingsMap": {},
     "title": ""
    }
   },
   "outputs": [],
   "source": [
    "#Connection between Storage account and Databricks\n",
    "app_secret = dbutils.secrets.get(scope=\"key-vault-scope\",key=\"app-secret\")\n",
    "tanent_id = dbutils.secrets.get(scope=\"key-vault-scope\",key=\"tanent-id\")\n",
    "application_id = dbutils.secrets.get(scope=\"key-vault-scope\",key=\"application-id\")\n",
    "\n",
    "spark.conf.set(\"fs.azure.account.auth.type.cricketraw.dfs.core.windows.net\", \"OAuth\")\n",
    "spark.conf.set(\"fs.azure.account.oauth.provider.type.cricketraw.dfs.core.windows.net\", \"org.apache.hadoop.fs.azurebfs.oauth2.ClientCredsTokenProvider\")\n",
    "spark.conf.set(\"fs.azure.account.oauth2.client.id.cricketraw.dfs.core.windows.net\", application_id)\n",
    "spark.conf.set(\"fs.azure.account.oauth2.client.secret.cricketraw.dfs.core.windows.net\", app_secret)\n",
    "spark.conf.set(\"fs.azure.account.oauth2.client.endpoint.cricketraw.dfs.core.windows.net\", \"https://login.microsoftonline.com/\"+tanent_id+\"/oauth2/token\")"
   ]
  },
  {
   "cell_type": "markdown",
   "metadata": {
    "application/vnd.databricks.v1+cell": {
     "cellMetadata": {},
     "inputWidgets": {},
     "nuid": "a0c5e140-e27f-4723-8e80-66801cc32f18",
     "showTitle": false,
     "tableResultSettingsMap": {},
     "title": ""
    }
   },
   "source": [
    "### 2. Verify Data Availability\n",
    "\n",
    "This command confirms that the connection is successful and that the raw cricket data files are accessible in the `landing` container of your ADLS account."
   ]
  },
  {
   "cell_type": "code",
   "execution_count": 0,
   "metadata": {
    "application/vnd.databricks.v1+cell": {
     "cellMetadata": {
      "byteLimit": 2048000,
      "rowLimit": 10000
     },
     "collapsed": true,
     "inputWidgets": {},
     "nuid": "6e6e09d1-dd8c-4dc9-9ebe-daa09c0defdf",
     "showTitle": false,
     "tableResultSettingsMap": {},
     "title": ""
    }
   },
   "outputs": [],
   "source": [
    "# List the files in the 'ipl' directory within the 'landing' container\n",
    "dbutils.fs.ls(\"abfss://landing@cricketraw.dfs.core.windows.net/ipl\")"
   ]
  },
  {
   "cell_type": "markdown",
   "metadata": {
    "application/vnd.databricks.v1+cell": {
     "cellMetadata": {},
     "inputWidgets": {},
     "nuid": "b5861ffb-5f7a-4a9d-8167-7aab420a0f6a",
     "showTitle": false,
     "tableResultSettingsMap": {},
     "title": ""
    }
   },
   "source": [
    "### 3. Import Libraries & Define Paths\n",
    "Here, we import the necessary PySpark functions for data manipulation and define the file paths for our Bronze and Silver layers. This helps keep the code clean and easy to manage."
   ]
  },
  {
   "cell_type": "code",
   "execution_count": 0,
   "metadata": {
    "application/vnd.databricks.v1+cell": {
     "cellMetadata": {
      "byteLimit": 2048000,
      "rowLimit": 10000
     },
     "inputWidgets": {},
     "nuid": "922372f4-40b1-445c-b81a-e2163d7af80d",
     "showTitle": false,
     "tableResultSettingsMap": {},
     "title": ""
    }
   },
   "outputs": [],
   "source": [
    "# Import PySpark functions for data processing and schema definition\n",
    "from pyspark.sql.types import StructType, StructField, StringType, IntegerType, ArrayType,MapType, LongType\n",
    "from pyspark.sql.functions import col, explode, when, array_except, monotonically_increasing_id, row_number, input_file_name, regexp_extract, array\n",
    "from pyspark.sql import Window\n",
    "\n",
    "# Define the base paths for the Bronze (raw) and Silver (Delta) layers\n",
    "bronze_path = \"abfss://landing@cricketraw.dfs.core.windows.net/ipl/\"\n",
    "silver_delta = \"abfss://delta@cricketraw.dfs.core.windows.net/silver/ipl/\""
   ]
  },
  {
   "cell_type": "markdown",
   "metadata": {
    "application/vnd.databricks.v1+cell": {
     "cellMetadata": {},
     "inputWidgets": {},
     "nuid": "5aaf7439-d8f2-4443-bdbd-74c3b392d68a",
     "showTitle": false,
     "tableResultSettingsMap": {},
     "title": ""
    }
   },
   "source": [
    "### 4. Schema Definition\n",
    "A robust schema is defined to ensure the data is read correctly and to prevent data corruption. This schema maps the nested structure of the raw JSON files, including arrays and nested structs, to a DataFrame."
   ]
  },
  {
   "cell_type": "code",
   "execution_count": 0,
   "metadata": {
    "application/vnd.databricks.v1+cell": {
     "cellMetadata": {
      "byteLimit": 2048000,
      "rowLimit": 10000
     },
     "inputWidgets": {},
     "nuid": "a5d9b160-ddeb-4b72-9db6-04f3cdfa4ff5",
     "showTitle": false,
     "tableResultSettingsMap": {},
     "title": ""
    }
   },
   "outputs": [],
   "source": [
    "# Define the Schema\n",
    "jsonSchema = StructType(\n",
    "    [\n",
    "        StructField(\n",
    "            \"meta\",\n",
    "            StructType(\n",
    "                [\n",
    "                    StructField(\"data_version\", StringType(), True),\n",
    "                    StructField(\"created\", StringType(), True),\n",
    "                    StructField(\"revision\", LongType(), True),\n",
    "                ]\n",
    "            ),\n",
    "            True,\n",
    "        ),\n",
    "        StructField(\n",
    "            \"info\",\n",
    "            StructType(\n",
    "                [\n",
    "                    StructField(\"balls_per_over\", LongType(), True),\n",
    "                    StructField(\"city\", StringType(), True),\n",
    "                    StructField(\"dates\", ArrayType(StringType(), True), True),\n",
    "                    StructField(\n",
    "                        \"event\",\n",
    "                        StructType(\n",
    "                            [\n",
    "                                StructField(\"match_number\", LongType(), True),\n",
    "                                StructField(\"name\", StringType(), True),\n",
    "                            ]\n",
    "                        ),\n",
    "                        True,\n",
    "                    ),\n",
    "                    StructField(\"gender\", StringType(), True),\n",
    "                    StructField(\"match_type\", StringType(), True),\n",
    "                    StructField(\n",
    "                        \"officials\",\n",
    "                        StructType(\n",
    "                            [\n",
    "                                StructField(\n",
    "                                    \"match_referees\", ArrayType(StringType(), True), True\n",
    "                                ),\n",
    "                                StructField(\n",
    "                                    \"reserve_umpires\", ArrayType(StringType(), True), True\n",
    "                                ),\n",
    "                                StructField(\n",
    "                                    \"tv_umpires\", ArrayType(StringType(), True), True\n",
    "                                ),\n",
    "                                StructField(\"umpires\", ArrayType(StringType(), True), True),\n",
    "                            ]\n",
    "                        ),\n",
    "                        True,\n",
    "                    ),\n",
    "                    StructField(\n",
    "                        \"outcome\",\n",
    "                        StructType(\n",
    "                            [\n",
    "                                StructField(\n",
    "                                    \"by\",\n",
    "                                    StructType(\n",
    "                                        [\n",
    "                                            StructField(\"runs\", LongType(), True),\n",
    "                                            StructField(\"wickets\", LongType(), True),\n",
    "                                        ]\n",
    "                                    ),\n",
    "                                    True,\n",
    "                                ),\n",
    "                                StructField(\"winner\", StringType(), True),\n",
    "                            ]\n",
    "                        ),\n",
    "                        True,\n",
    "                    ),\n",
    "                    StructField(\"overs\", LongType(), True),\n",
    "                    StructField(\n",
    "                        \"player_of_match\", ArrayType(StringType(), True), True\n",
    "                    ),\n",
    "                    StructField(\n",
    "                        \"players\",\n",
    "                        MapType(StringType(), ArrayType(StringType(), True)),\n",
    "                        True,\n",
    "                    ),\n",
    "                    StructField(\n",
    "                        \"registry\",\n",
    "                        StructType(\n",
    "                            [\n",
    "                                StructField(\n",
    "                                    \"people\", MapType(StringType(), StringType()), True\n",
    "                                )\n",
    "                            ]\n",
    "                        ),\n",
    "                        True,\n",
    "                    ),\n",
    "                    StructField(\"season\", StringType(), True),\n",
    "                    StructField(\"team_type\", StringType(), True),\n",
    "                    StructField(\"teams\", ArrayType(StringType(), True), True),\n",
    "                    StructField(\n",
    "                        \"toss\",\n",
    "                        StructType(\n",
    "                            [\n",
    "                                StructField(\"decision\", StringType(), True),\n",
    "                                StructField(\"winner\", StringType(), True),\n",
    "                            ]\n",
    "                        ),\n",
    "                        True,\n",
    "                    ),\n",
    "                    StructField(\"venue\", StringType(), True),\n",
    "                ]\n",
    "            ),\n",
    "            True,\n",
    "        ),\n",
    "        StructField(\n",
    "            \"innings\",\n",
    "            ArrayType(\n",
    "                StructType(\n",
    "                    [\n",
    "                        StructField(\"team\", StringType(), True),\n",
    "                        StructField(\n",
    "                            \"overs\",\n",
    "                            ArrayType(\n",
    "                                StructType(\n",
    "                                    [\n",
    "                                        StructField(\"over\", LongType(), True),\n",
    "                                        StructField(\n",
    "                                            \"deliveries\",\n",
    "                                            ArrayType(\n",
    "                                                StructType(\n",
    "                                                    [\n",
    "                                                        StructField(\n",
    "                                                            \"batter\", StringType(), True\n",
    "                                                        ),\n",
    "                                                        StructField(\n",
    "                                                            \"bowler\", StringType(), True\n",
    "                                                        ),\n",
    "                                                        StructField(\n",
    "                                                            \"extras\",\n",
    "                                                            StructType(\n",
    "                                                                [\n",
    "                                                                    StructField(\n",
    "                                                                        \"legbyes\", LongType(), True\n",
    "                                                                    ),\n",
    "                                                                    StructField(\n",
    "                                                                        \"wides\", LongType(), True\n",
    "                                                                    ),\n",
    "                                                                    StructField(\"byes\", LongType(), True),\n",
    "                                                                    StructField(\"noballs\", LongType(), True),\n",
    "\n",
    "\n",
    "                                                                ]\n",
    "                                                            ),\n",
    "                                                            True,\n",
    "                                                        ),\n",
    "                                                        StructField(\n",
    "                                                            \"non_striker\", StringType(), True\n",
    "                                                        ),\n",
    "                                                        StructField(\n",
    "                                                            \"runs\",\n",
    "                                                            StructType(\n",
    "                                                                [\n",
    "                                                                    StructField(\n",
    "                                                                        \"batter\", LongType(), True\n",
    "                                                                    ),\n",
    "                                                                    StructField(\n",
    "                                                                        \"extras\", LongType(), True\n",
    "                                                                    ),\n",
    "                                                                    StructField(\n",
    "                                                                        \"total\", LongType(), True\n",
    "                                                                    ),\n",
    "                                                                ]\n",
    "                                                            ),\n",
    "                                                            True,\n",
    "                                                        ),\n",
    "                                                        StructField(\n",
    "                                                            \"wickets\",\n",
    "                                                            ArrayType(\n",
    "                                                                StructType(\n",
    "                                                                    [\n",
    "                                                                        StructField(\"kind\", StringType(), True),\n",
    "                                                                        StructField(\"player_out\", StringType(), True),\n",
    "                                                                        StructField(\n",
    "                                                                            \"fielders\",\n",
    "                                                                            ArrayType(\n",
    "                                                                                StructType(\n",
    "                                                                                    [\n",
    "                                                                                        StructField(\"name\", StringType(), True)\n",
    "                                                                                    ]\n",
    "                                                                                ),\n",
    "                                                                                True\n",
    "                                                                            ),\n",
    "                                                                            True,\n",
    "                                                                        ),\n",
    "                                                                    ]\n",
    "                                                                )\n",
    "                                                            ),\n",
    "                                                            True\n",
    "                                                        ),\n",
    "                                                    ]\n",
    "                                                ),\n",
    "                                                True,\n",
    "                                            ),\n",
    "                                            True,\n",
    "                                        ),\n",
    "                                    ]\n",
    "                                )\n",
    "                            ),\n",
    "                            True,\n",
    "                        ),\n",
    "                    ]\n",
    "                )\n",
    "            ),\n",
    "            True,\n",
    "        ),\n",
    "    ]\n",
    ")"
   ]
  },
  {
   "cell_type": "markdown",
   "metadata": {
    "application/vnd.databricks.v1+cell": {
     "cellMetadata": {},
     "inputWidgets": {},
     "nuid": "5667717e-dbcb-4284-86fb-3d923d2265e1",
     "showTitle": false,
     "tableResultSettingsMap": {},
     "title": ""
    }
   },
   "source": [
    "### 5. Data Normalization and Flattening\n",
    "This is the core data processing step. We read the raw data, and then apply a series of transformations to normalize and flatten the complex nested JSON structure into six clean, relational tables. Each table serves a specific purpose, adhering to a normalized schema for efficient querying."
   ]
  },
  {
   "cell_type": "code",
   "execution_count": 0,
   "metadata": {
    "application/vnd.databricks.v1+cell": {
     "cellMetadata": {
      "byteLimit": 2048000,
      "rowLimit": 10000
     },
     "inputWidgets": {},
     "nuid": "73a4491b-cafb-409c-a371-8e832234757a",
     "showTitle": false,
     "tableResultSettingsMap": {},
     "title": ""
    }
   },
   "outputs": [],
   "source": [
    "# Read the raw JSON data into a DataFrame\n",
    "raw_df = spark.read.json(bronze_path, schema=jsonSchema, multiLine=True)\n",
    "print(f\"Count:{raw_df.count()}\")\n",
    "\n",
    "# Adding unique match_id and season for Joining\n",
    "df_with_match_id = raw_df.withColumn(\n",
    "    \"match_id\", regexp_extract(col(\"_metadata.file_path\"), r\"\\/(\\w+)\\.json$\", 1)\n",
    ").withColumn(\"season\", col(\"info.season\"))\n",
    "\n",
    "#Creating match info table\n",
    "match_info_df = df_with_match_id.select(\n",
    "    col(\"match_id\"),\n",
    "    col(\"season\"),\n",
    "    col(\"info.match_type\").alias(\"match_type\"),\n",
    "    col(\"info.city\").alias(\"city\"),\n",
    "    col(\"info.venue\").alias(\"venue\"),\n",
    "    col(\"info.dates\").getItem(0).alias(\"date\"),\n",
    "    col(\"info.toss.winner\").alias(\"toss_winner\"),\n",
    "    col(\"info.toss.decision\").alias(\"toss_decision\"),\n",
    "    col(\"info.outcome.winner\").alias(\"winner\"),\n",
    "    when(col(\"info.outcome.by.runs\").isNotNull(), \"runs\")\n",
    "        .when(col(\"info.outcome.by.wickets\").isNotNull(), \"wickets\")\n",
    "        .otherwise(None)\n",
    "        .alias(\"win_margin_type\"),\n",
    "    when(col(\"info.outcome.by.runs\").isNotNull(), col(\"info.outcome.by.runs\"))\n",
    "        .when(col(\"info.outcome.by.wickets\").isNotNull(), col(\"info.outcome.by.wickets\"))\n",
    "        .otherwise(None)\n",
    "        .alias(\"win_margin_value\"),\n",
    "    col(\"info.player_of_match\").getItem(0).alias(\"player_of_match\")\n",
    ")\n",
    "\n",
    "#creating teams table\n",
    "teams_df = df_with_match_id.select(\n",
    "    col(\"match_id\"),\n",
    "    col(\"season\"),\n",
    "    explode(col(\"info.players\")).alias(\"team_name\", \"players_list\")\n",
    ")\n",
    "\n",
    "#Creating players registry table\n",
    "players_registry_df = df_with_match_id.select(\n",
    "    explode(col(\"info.registry.people\")).alias(\"player_name\", \"player_id\")\n",
    ").distinct()\n",
    "\n",
    "#Creating innings table\n",
    "innings_df = df_with_match_id.select(\n",
    "    col(\"match_id\"),\n",
    "    col(\"season\"),\n",
    "    explode(col(\"innings\")).alias(\"innings_data\"),\n",
    "    col(\"info.teams\").alias(\"all_teams\")\n",
    ").withColumn(\n",
    "    \"batting_team\", col(\"innings_data.team\")\n",
    ").withColumn(\n",
    "    \"bowling_team\", array_except(\n",
    "        col(\"all_teams\"), array(col(\"batting_team\"))\n",
    "    ).getItem(0)\n",
    ").select(\n",
    "    \"match_id\",\n",
    "    \"season\",\n",
    "    \"batting_team\",\n",
    "    \"bowling_team\"\n",
    ").withColumn(\n",
    "    \"innings_no\", row_number().over(Window.partitionBy(\"match_id\").orderBy(monotonically_increasing_id()))\n",
    ")\n",
    "\n",
    "#Creating deliveries table\n",
    "deliveries_base_df = df_with_match_id.select(\n",
    "    col(\"match_id\"),\n",
    "    col(\"season\"),\n",
    "    explode(col(\"innings\")).alias(\"innings_data\")\n",
    ").select(\n",
    "    col(\"match_id\"),\n",
    "    col(\"season\"),\n",
    "    col(\"innings_data.team\").alias(\"batting_team\"),\n",
    "    explode(col(\"innings_data.overs\")).alias(\"over_data\")\n",
    ").select(\n",
    "    col(\"match_id\"),\n",
    "    col(\"season\"),\n",
    "    col(\"batting_team\"),\n",
    "    col(\"over_data.over\").alias(\"over\"),\n",
    "    explode(col(\"over_data.deliveries\")).alias(\"delivery_data\")\n",
    ").select(\n",
    "    col(\"match_id\"),\n",
    "    col(\"season\"),\n",
    "    col(\"batting_team\"),\n",
    "    col(\"over\"),\n",
    "    col(\"delivery_data.batter\").alias(\"batsman\"),\n",
    "    col(\"delivery_data.bowler\").alias(\"bowler\"),\n",
    "    col(\"delivery_data.non_striker\").alias(\"non_striker\"),\n",
    "    col(\"delivery_data.runs.batter\").alias(\"runs_batsman\"),\n",
    "    col(\"delivery_data.runs.extras\").alias(\"runs_extras\"),\n",
    "    col(\"delivery_data.runs.total\").alias(\"runs_total\"),\n",
    "    when(col(\"delivery_data.extras.wides\").isNotNull(), \"wides\")\n",
    "        .when(col(\"delivery_data.extras.legbyes\").isNotNull(), \"legbyes\")\n",
    "        .when(col(\"delivery_data.extras.noballs\").isNotNull(), \"noballs\")\n",
    "        .when(col(\"delivery_data.extras.byes\").isNotNull(), \"byes\")\n",
    "        .otherwise(None)\n",
    "        .alias(\"extras_type\"),\n",
    "    col(\"delivery_data.wickets\").alias(\"wickets_data\")\n",
    ")\n",
    "\n",
    "# Adding a sequential `innings_no` and `ball_no` to the deliveries table\n",
    "deliveries_df = deliveries_base_df.withColumn(\n",
    "    \"ball\",\n",
    "    row_number().over(Window.partitionBy(\"match_id\", \"batting_team\", \"over\").orderBy(monotonically_increasing_id()))\n",
    ").withColumn(\n",
    "    \"innings_no\",\n",
    "    row_number().over(Window.partitionBy(\"match_id\", \"batting_team\").orderBy(monotonically_increasing_id()))\n",
    ").drop(\"wickets_data\", \"batting_team\")\n",
    "\n",
    "#Creating wickets table - Captures wicket-taking events\n",
    "wickets_df = deliveries_base_df.select(\n",
    "    col(\"match_id\"),\n",
    "    col(\"season\"),\n",
    "    col(\"over\"),\n",
    "    col(\"batting_team\"),\n",
    "    explode(col(\"wickets_data\")).alias(\"wicket_data\")\n",
    ").withColumn(\n",
    "    \"ball\",\n",
    "    row_number().over(Window.partitionBy(\"match_id\", \"batting_team\", \"over\").orderBy(monotonically_increasing_id()))\n",
    ").withColumn(\n",
    "    \"innings_no\",\n",
    "    row_number().over(Window.partitionBy(\"match_id\", \"batting_team\").orderBy(monotonically_increasing_id()))\n",
    ").withColumn(\n",
    "    \"fielder_data\", explode(\"wicket_data.fielders\")\n",
    ").select(\n",
    "    \"match_id\",\n",
    "    \"season\",\n",
    "    \"innings_no\",\n",
    "    \"over\",\n",
    "    \"ball\",\n",
    "    col(\"wicket_data.kind\").alias(\"kind\"),\n",
    "    col(\"wicket_data.player_out\").alias(\"player_out\"),\n",
    "    col(\"fielder_data.name\").alias(\"fielder_name\")\n",
    ").dropDuplicates()\n",
    "\n",
    "#Defining paths for the Delta tables\n",
    "match_info_path = f\"{silver_delta}match_info\"\n",
    "teams_path = f\"{silver_delta}teams\"\n",
    "players_registry_path = f\"{silver_delta}players_registry\"\n",
    "innings_path = f\"{silver_delta}innings\"\n",
    "deliveries_path = f\"{silver_delta}deliveries\"\n",
    "wickets_path = f\"{silver_delta}wickets\"\n",
    "\n",
    "# Show a sample of the data\n",
    "match_info_df.show(1)"
   ]
  },
  {
   "cell_type": "markdown",
   "metadata": {
    "application/vnd.databricks.v1+cell": {
     "cellMetadata": {},
     "inputWidgets": {},
     "nuid": "4ed04559-2c87-49e3-9054-16af02e01498",
     "showTitle": false,
     "tableResultSettingsMap": {},
     "title": ""
    }
   },
   "source": [
    "### 6. Write to Delta Lake & Register Tables\n",
    "\n",
    "Finally, the normalized DataFrames are written to the `delta` container in Delta Lake format. The tables are partitioned by `season` where appropriate to optimize query performance. After writing the data, we register these Delta tables with Unity Catalog, making them accessible via SQL for analysis."
   ]
  },
  {
   "cell_type": "code",
   "execution_count": 0,
   "metadata": {
    "application/vnd.databricks.v1+cell": {
     "cellMetadata": {},
     "inputWidgets": {},
     "nuid": "bb775d64-b1df-4685-8a10-2ee1110902e9",
     "showTitle": false,
     "tableResultSettingsMap": {},
     "title": ""
    }
   },
   "outputs": [],
   "source": [
    "# Write each DataFrame to its respective Delta table, partitioned by 'season'\n",
    "match_info_df.write.partitionBy(\"season\").format(\"delta\").mode(\"overwrite\").save(match_info_path)\n",
    "teams_df.write.partitionBy(\"season\").format(\"delta\").mode(\"overwrite\").save(teams_path)\n",
    "players_registry_df.write.format(\"delta\").mode(\"overwrite\").save(players_registry_path)\n",
    "innings_df.write.partitionBy(\"season\").format(\"delta\").mode(\"overwrite\").save(innings_path)\n",
    "deliveries_df.write.partitionBy(\"season\").format(\"delta\").mode(\"overwrite\").save(deliveries_path)\n",
    "wickets_df.write.partitionBy(\"season\").format(\"delta\").mode(\"overwrite\").save(wickets_path)\n",
    "\n",
    "# Registering the Delta tables with Unity Catalog\n",
    "spark.sql(f\"CREATE TABLE IF NOT EXISTS match_info USING DELTA LOCATION '{match_info_path}'\")\n",
    "spark.sql(f\"CREATE TABLE IF NOT EXISTS teams USING DELTA LOCATION '{teams_path}'\")\n",
    "spark.sql(f\"CREATE TABLE IF NOT EXISTS players_registry USING DELTA LOCATION '{players_registry_path}'\")    \n",
    "spark.sql(f\"CREATE TABLE IF NOT EXISTS innings USING DELTA LOCATION '{innings_path}'\")  \n",
    "spark.sql(f\"CREATE TABLE IF NOT EXISTS deliveries USING DELTA LOCATION '{deliveries_path}'\") \n",
    "spark.sql(f\"CREATE TABLE IF NOT EXISTS wickets USING DELTA LOCATION '{wickets_path}'\")    "
   ]
  },
  {
   "cell_type": "markdown",
   "metadata": {
    "application/vnd.databricks.v1+cell": {
     "cellMetadata": {},
     "inputWidgets": {},
     "nuid": "43cc1333-8962-4749-b28e-e0167514b317",
     "showTitle": false,
     "tableResultSettingsMap": {},
     "title": ""
    }
   },
   "source": [
    "### 7. SQL Query for Verification\n",
    "This cell demonstrates how to query the newly created tables using SQL, confirming that the data is correctly loaded and accessible."
   ]
  },
  {
   "cell_type": "code",
   "execution_count": 0,
   "metadata": {
    "application/vnd.databricks.v1+cell": {
     "cellMetadata": {
      "byteLimit": 2048000,
      "implicitDf": true,
      "rowLimit": 10000
     },
     "inputWidgets": {},
     "nuid": "84108fcd-7601-4701-bd4c-6bd3efd0629d",
     "showTitle": false,
     "tableResultSettingsMap": {},
     "title": ""
    }
   },
   "outputs": [],
   "source": [
    "%sql\n",
    "SELECT count(*) FROM match_info;\n",
    "SELECT count(*) FROM teams;\n",
    "SELECT count(*) FROM players_registry;\n",
    "SELECT count(*) FROM innings;\n",
    "SELECT count(*) FROM deliveries;\n",
    "SELECT count(*) FROM wickets;"
   ]
  }
 ],
 "metadata": {
  "application/vnd.databricks.v1+notebook": {
   "computePreferences": null,
   "dashboards": [],
   "environmentMetadata": {
    "base_environment": "",
    "environment_version": "3"
   },
   "inputWidgetPreferences": null,
   "language": "python",
   "notebookMetadata": {
    "mostRecentlyExecutedCommandWithImplicitDF": {
     "commandId": 6134600769145868,
     "dataframes": [
      "_sqldf"
     ]
    },
    "pythonIndentUnit": 4
   },
   "notebookName": "ingestions",
   "widgets": {}
  },
  "language_info": {
   "name": "python"
  }
 },
 "nbformat": 4,
 "nbformat_minor": 0
}
